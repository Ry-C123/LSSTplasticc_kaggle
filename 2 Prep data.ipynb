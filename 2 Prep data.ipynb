{
 "cells": [
  {
   "cell_type": "markdown",
   "metadata": {},
   "source": [
    "## 2. Prep data\n",
    "\n",
    "---\n",
    "\n",
    "From visu data we learned that there are 3 catagories of distance for the different classes. To make the files smaller and more manageable we'll split them up here into these three distances.  "
   ]
  },
  {
   "cell_type": "code",
   "execution_count": 5,
   "metadata": {},
   "outputs": [
    {
     "name": "stdout",
     "output_type": "stream",
     "text": [
      "Directories made\n"
     ]
    }
   ],
   "source": [
    "import os\n",
    "if os.path.exists('splitfiles') != True:\n",
    "   os.makedirs('splitfiles')\n",
    "   os.makedirs('splitfiles/z0')\n",
    "   os.makedirs('splitfiles/z2')\n",
    "   print('Directories made') \n",
    "\n",
    "F = open('training_set_metadata.csv', 'r')\n",
    "\n",
    "Z0 = open('splitfiles/z0/train_meta.csv', 'w')\n",
    "Z2 = open('splitfiles/z2/train_meta.csv', 'w')\n",
    "\n",
    "\n",
    "## Writing the split meta data files\n",
    "\n",
    "Z0_list = []\n",
    "Z2_list = []\n",
    "for line in F.readlines():\n",
    "    if line.split(',')[0] == 'object_id':\n",
    "     Z0.write(line)\n",
    "     Z2.write(line)\n",
    "    elif float(line.split(',')[6]) == 0:\n",
    "     Z0.write(line)\n",
    "     Z0_list.append(int(line.split(',')[0]))\n",
    "    elif float(line.split(',')[6]) >0:\n",
    "     Z2.write(line)\n",
    "     Z2_list.append(int(line.split(',')[0]))\n",
    "        \n",
    "F.close()    \n",
    "Z0.close()\n",
    "Z2.close()"
   ]
  },
  {
   "cell_type": "code",
   "execution_count": 6,
   "metadata": {},
   "outputs": [],
   "source": [
    "F = open('training_set.csv', 'r')\n",
    "\n",
    "Z0 = open('splitfiles/z0/train.csv', 'w')\n",
    "Z2 = open('splitfiles/z2/train.csv', 'w')\n",
    "\n",
    "for line in F.readlines():\n",
    " if line.split(',')[0] == 'object_id':\n",
    "     Z0.write(line)\n",
    "     Z2.write(line)\n",
    " elif int(line.split(',')[0]) in Z0_list:\n",
    "    Z0.write(line)\n",
    " elif int(line.split(',')[0]) in Z2_list:\n",
    "    Z2.write(line)"
   ]
  },
  {
   "cell_type": "code",
   "execution_count": 8,
   "metadata": {},
   "outputs": [
    {
     "name": "stdout",
     "output_type": "stream",
     "text": [
      "17135737 42780218\n",
      "59915955\n",
      "60016555\n"
     ]
    }
   ],
   "source": [
    "#sanity check to make sure the files are about the same size#\n",
    "\n",
    "x = os.path.getsize('splitfiles/z0/train.csv')\n",
    "y = os.path.getsize('splitfiles/z2/train.csv')\n",
    "\n",
    "A = os.path.getsize('training_set.csv')\n",
    "print(x, y)\n",
    "print(x+y)\n",
    "print(A) "
   ]
  },
  {
   "cell_type": "markdown",
   "metadata": {},
   "source": [
    "## Let's prep the test sets"
   ]
  },
  {
   "cell_type": "code",
   "execution_count": 9,
   "metadata": {},
   "outputs": [
    {
     "name": "stdout",
     "output_type": "stream",
     "text": [
      "3492892 3492892\n",
      "Should be equal!\n"
     ]
    }
   ],
   "source": [
    "F = open('test_set_metadata.csv', 'r')\n",
    "\n",
    "Z0 = open('splitfiles/z0/test_meta.csv', 'w')\n",
    "Z2 = open('splitfiles/z2/test_meta.csv', 'w')\n",
    "\n",
    "\n",
    "## Writing the split meta data files\n",
    "\n",
    "Z0_list = []\n",
    "Z2_list = []\n",
    "for line in F.readlines():\n",
    "    if line.split(',')[0] == 'object_id':\n",
    "     Z0.write(line)\n",
    "     Z2.write(line)\n",
    "    elif float(line.split(',')[7]) == 0:\n",
    "     Z0.write(line)\n",
    "     Z0_list.append(int(line.split(',')[0]))\n",
    "    elif float(line.split(',')[7]) > 0:\n",
    "     Z2.write(line)\n",
    "     Z2_list.append(int(line.split(',')[0])) #Get IDs for seperating the training data\n",
    "F.close()    \n",
    "Z0.close()\n",
    "Z2.close()\n",
    "\n",
    "F = open('test_set_metadata.csv', 'r')\n",
    "samp = len(F.readlines())\n",
    "F.close()\n",
    "F = open('splitfiles/z0/test_meta.csv', 'r')\n",
    "one = len(F.readlines())\n",
    "F.close()\n",
    "F = open('splitfiles/z2/test_meta.csv', 'r')\n",
    "two = len(F.readlines())\n",
    "F.close()\n",
    "print(one+two, samp+1)\n",
    "print('Should be equal!')"
   ]
  }
 ],
 "metadata": {
  "kernelspec": {
   "display_name": "Python 3",
   "language": "python",
   "name": "python3"
  },
  "language_info": {
   "codemirror_mode": {
    "name": "ipython",
    "version": 3
   },
   "file_extension": ".py",
   "mimetype": "text/x-python",
   "name": "python",
   "nbconvert_exporter": "python",
   "pygments_lexer": "ipython3",
   "version": "3.6.7"
  }
 },
 "nbformat": 4,
 "nbformat_minor": 2
}
